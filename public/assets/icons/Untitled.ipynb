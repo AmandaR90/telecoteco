{
 "cells": [
  {
   "cell_type": "code",
   "execution_count": 1,
   "metadata": {},
   "outputs": [
    {
     "name": "stdout",
     "output_type": "stream",
     "text": [
      "Collecting pysvg\n",
      "  Downloading https://files.pythonhosted.org/packages/49/2e/4ea6adcffa317856f9d07cbf31cc0cd8befbc3e138e19fb4c33b037300b3/pysvg-0.2.2.zip (623kB)\n",
      "\u001b[K    100% |████████████████████████████████| 624kB 243kB/s ta 0:00:01\n",
      "\u001b[?25hBuilding wheels for collected packages: pysvg\n",
      "  Running setup.py bdist_wheel for pysvg ... \u001b[?25ldone\n",
      "\u001b[?25h  Stored in directory: /home/georges/.cache/pip/wheels/b5/44/28/adce88005c7d451e149816b81a4fa4391eba082f231edb4a7b\n",
      "Successfully built pysvg\n",
      "Installing collected packages: pysvg\n",
      "Successfully installed pysvg-0.2.2\n"
     ]
    }
   ],
   "source": [
    "!pip3 install pysvg"
   ]
  },
  {
   "cell_type": "code",
   "execution_count": 2,
   "metadata": {},
   "outputs": [
    {
     "ename": "ModuleNotFoundError",
     "evalue": "No module named 'attributes'",
     "output_type": "error",
     "traceback": [
      "\u001b[0;31m---------------------------------------------------------------------------\u001b[0m",
      "\u001b[0;31mModuleNotFoundError\u001b[0m                       Traceback (most recent call last)",
      "\u001b[0;32m<ipython-input-2-3e3f4dbdeeb6>\u001b[0m in \u001b[0;36m<module>\u001b[0;34m\u001b[0m\n\u001b[0;32m----> 1\u001b[0;31m \u001b[0;32mimport\u001b[0m \u001b[0mpysvg\u001b[0m\u001b[0;34m.\u001b[0m\u001b[0mstructure\u001b[0m\u001b[0;34m\u001b[0m\u001b[0;34m\u001b[0m\u001b[0m\n\u001b[0m\u001b[1;32m      2\u001b[0m \u001b[0;32mimport\u001b[0m \u001b[0mpysvg\u001b[0m\u001b[0;34m.\u001b[0m\u001b[0mbuilders\u001b[0m\u001b[0;34m\u001b[0m\u001b[0;34m\u001b[0m\u001b[0m\n\u001b[1;32m      3\u001b[0m \u001b[0;32mimport\u001b[0m \u001b[0mpysvg\u001b[0m\u001b[0;34m.\u001b[0m\u001b[0mtext\u001b[0m\u001b[0;34m\u001b[0m\u001b[0;34m\u001b[0m\u001b[0m\n\u001b[1;32m      4\u001b[0m \u001b[0;34m\u001b[0m\u001b[0m\n\u001b[1;32m      5\u001b[0m \u001b[0msvg_document\u001b[0m \u001b[0;34m=\u001b[0m \u001b[0mpysvg\u001b[0m\u001b[0;34m.\u001b[0m\u001b[0mstructure\u001b[0m\u001b[0;34m.\u001b[0m\u001b[0msvg\u001b[0m\u001b[0;34m(\u001b[0m\u001b[0;34m\"logo_big7.svg\"\u001b[0m\u001b[0;34m)\u001b[0m\u001b[0;34m\u001b[0m\u001b[0;34m\u001b[0m\u001b[0m\n",
      "\u001b[0;32m~/.local/lib/python3.6/site-packages/pysvg/structure.py\u001b[0m in \u001b[0;36m<module>\u001b[0;34m\u001b[0m\n\u001b[1;32m      7\u001b[0m \u001b[0mFor\u001b[0m \u001b[0mlicensing\u001b[0m \u001b[0minformation\u001b[0m \u001b[0mplease\u001b[0m \u001b[0mrefer\u001b[0m \u001b[0mto\u001b[0m \u001b[0mlicense\u001b[0m\u001b[0;34m.\u001b[0m\u001b[0mtxt\u001b[0m\u001b[0;34m\u001b[0m\u001b[0;34m\u001b[0m\u001b[0m\n\u001b[1;32m      8\u001b[0m '''\n\u001b[0;32m----> 9\u001b[0;31m \u001b[0;32mfrom\u001b[0m \u001b[0mattributes\u001b[0m \u001b[0;32mimport\u001b[0m \u001b[0;34m*\u001b[0m\u001b[0;34m\u001b[0m\u001b[0;34m\u001b[0m\u001b[0m\n\u001b[0m\u001b[1;32m     10\u001b[0m \u001b[0;32mfrom\u001b[0m \u001b[0mcore\u001b[0m \u001b[0;32mimport\u001b[0m \u001b[0mBaseElement\u001b[0m\u001b[0;34m,\u001b[0m \u001b[0mPointAttrib\u001b[0m\u001b[0;34m,\u001b[0m \u001b[0mDimensionAttrib\u001b[0m\u001b[0;34m\u001b[0m\u001b[0;34m\u001b[0m\u001b[0m\n\u001b[1;32m     11\u001b[0m \u001b[0;34m\u001b[0m\u001b[0m\n",
      "\u001b[0;31mModuleNotFoundError\u001b[0m: No module named 'attributes'"
     ]
    }
   ],
   "source": [
    "import pysvg.structure\n",
    "import pysvg.builders\n",
    "import pysvg.text\n",
    "\n",
    "svg_document = pysvg.structure.svg(\"logo_big7.svg\")"
   ]
  },
  {
   "cell_type": "code",
   "execution_count": null,
   "metadata": {},
   "outputs": [],
   "source": [
    "shape_builder = pysvg.builders.ShapeBuilder()\n",
    "\n",
    "svg_document.addElement(shape_builder.createRect(0, 0,\n",
    "                                                 \"200px\", \"100px\",\n",
    "                                                 strokewidth = 1,\n",
    "                                                 stroke = \"black\",\n",
    "                                                 fill = \"rgb(255, 255, 0)\"))\n",
    "\n",
    "svg_document.addElement(pysvg.text.text(\"Hello World\",\n",
    "                                        x = 210, y = 110))\n",
    "\n",
    "print(svg_document.getXML())\n",
    "\n",
    "svg_document.save(\"test-pysvg.svg\")"
   ]
  },
  {
   "cell_type": "code",
   "execution_count": 4,
   "metadata": {},
   "outputs": [],
   "source": [
    "import xml.etree.ElementTree as ET\n",
    "import re\n",
    "\n",
    "# for parsing svg as a string:\n",
    "#svg = ET.fromstring(svg_string)\n",
    "# for parsing svg from a file:\n",
    "svg = ET.parse(\"logo_big7.svg\")"
   ]
  },
  {
   "cell_type": "code",
   "execution_count": 12,
   "metadata": {},
   "outputs": [],
   "source": [
    "root = svg.getroot()"
   ]
  },
  {
   "cell_type": "code",
   "execution_count": 26,
   "metadata": {},
   "outputs": [],
   "source": [
    "a = root[1][5]"
   ]
  },
  {
   "cell_type": "code",
   "execution_count": 27,
   "metadata": {},
   "outputs": [
    {
     "data": {
      "text/plain": [
       "{'d': 'M7053 2196 c-4 -7 -15 -16 -23 -19 -8 -3 -2 -6 14 -6 16 -1 26 2 23 6 -4 3 -2 12 4 20 8 9 8 13 1 13 -6 0 -15 -6 -19 -14z'}"
      ]
     },
     "execution_count": 27,
     "metadata": {},
     "output_type": "execute_result"
    }
   ],
   "source": [
    "a.attrib"
   ]
  },
  {
   "cell_type": "code",
   "execution_count": null,
   "metadata": {},
   "outputs": [],
   "source": []
  }
 ],
 "metadata": {
  "kernelspec": {
   "display_name": "Python 3",
   "language": "python",
   "name": "python3"
  },
  "language_info": {
   "codemirror_mode": {
    "name": "ipython",
    "version": 3
   },
   "file_extension": ".py",
   "mimetype": "text/x-python",
   "name": "python",
   "nbconvert_exporter": "python",
   "pygments_lexer": "ipython3",
   "version": "3.6.9"
  }
 },
 "nbformat": 4,
 "nbformat_minor": 4
}
